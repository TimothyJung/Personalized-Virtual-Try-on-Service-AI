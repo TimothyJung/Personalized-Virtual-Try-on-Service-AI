{
 "cells": [
  {
   "cell_type": "code",
   "execution_count": 4,
   "metadata": {},
   "outputs": [
    {
     "name": "stdout",
     "output_type": "stream",
     "text": [
      "Collecting webdriver-manager\n",
      "  Using cached webdriver_manager-3.8.6-py2.py3-none-any.whl (27 kB)\n",
      "Requirement already satisfied: requests in /Users/hyeontae/anaconda3/envs/bigproject/lib/python3.8/site-packages (from webdriver-manager) (2.31.0)\n",
      "Collecting python-dotenv (from webdriver-manager)\n",
      "  Using cached python_dotenv-1.0.0-py3-none-any.whl (19 kB)\n",
      "Collecting tqdm (from webdriver-manager)\n",
      "  Using cached tqdm-4.65.0-py3-none-any.whl (77 kB)\n",
      "Requirement already satisfied: packaging in /Users/hyeontae/anaconda3/envs/bigproject/lib/python3.8/site-packages (from webdriver-manager) (23.1)\n",
      "Requirement already satisfied: charset-normalizer<4,>=2 in /Users/hyeontae/anaconda3/envs/bigproject/lib/python3.8/site-packages (from requests->webdriver-manager) (3.1.0)\n",
      "Requirement already satisfied: idna<4,>=2.5 in /Users/hyeontae/anaconda3/envs/bigproject/lib/python3.8/site-packages (from requests->webdriver-manager) (3.4)\n",
      "Requirement already satisfied: urllib3<3,>=1.21.1 in /Users/hyeontae/anaconda3/envs/bigproject/lib/python3.8/site-packages (from requests->webdriver-manager) (2.0.3)\n",
      "Requirement already satisfied: certifi>=2017.4.17 in /Users/hyeontae/anaconda3/envs/bigproject/lib/python3.8/site-packages (from requests->webdriver-manager) (2023.5.7)\n",
      "Installing collected packages: tqdm, python-dotenv, webdriver-manager\n",
      "Successfully installed python-dotenv-1.0.0 tqdm-4.65.0 webdriver-manager-3.8.6\n",
      "Note: you may need to restart the kernel to use updated packages.\n"
     ]
    }
   ],
   "source": [
    "pip install webdriver-manager"
   ]
  },
  {
   "cell_type": "code",
   "execution_count": 1,
   "metadata": {},
   "outputs": [],
   "source": [
    "'''\n",
    "* 사이즈 추천 알고리즘\n",
    "    - 사용자가 키, 몸무게 정보 입력 시 size_data.csv 파일에서 키와 몸무게가 가장 유사한 행을 찾아 신체 치수(총장, 어깨너비, 가슴단면 반환)\n",
    "    - 일반핏 선호 시 사용자의 치수에 맞는 의류 사이즈 추천\n",
    "    - 루즈핏 선호 시 사용자의 치수에 맞는 의류 기준 한 사이즈 up \n",
    "\n",
    "* 예외 처리\n",
    "1. 사용자의 신체 치수에 맞는 사이즈가 없을 경우 - 'None-size' 반환\n",
    "2. 무신사 페이지에 사이즈 정보가 없을 경우 - 'None-info' 반환\n",
    "### 이외의 경우는 무신사 특정 의류 페이지에서 제공하는 사이즈명(S, M, L, small, large, 1, 2 등)과 일치하는 사이즈 추천 결과값 반환\n",
    "'''\n",
    "from selenium import webdriver\n",
    "from selenium.webdriver.chrome.service import Service\n",
    "from webdriver_manager.chrome import ChromeDriverManager\n",
    "from bs4 import BeautifulSoup\n",
    "\n",
    "import pandas as pd\n",
    "import time\n",
    "\n",
    "# 사용자 신체 치수 리턴 함수\n",
    "def return_size(target_height, target_weight, data_path = '/home/leeyj980919/size_data.csv'\n",
    ") :\n",
    "    from scipy.spatial.distance import cdist\n",
    "    \n",
    "    data = pd.read_csv(data_path)\n",
    "    # 유클리디안 거리 계산\n",
    "    distances = cdist(data[['키', '몸무게']], [[target_height, target_weight]], metric='euclidean')\n",
    "\n",
    "    # 근사값이 가장 작은 행 선택\n",
    "    closest_row_index = distances.argmin()\n",
    "    closest_row = data.iloc[closest_row_index].to_dict()\n",
    "    return closest_row\n",
    "\n",
    "# 크롤링 \n",
    "def crawling(url) :\n",
    "    chrome_options = webdriver.ChromeOptions()\n",
    "    chrome_options.add_argument('--headless')  # Headless 모드로 실행\n",
    "    chrome_options.add_argument('--disable-gpu')  # GPU 가속 비활성화\n",
    "    chrome_options.add_argument('--no-sandbox')  # 보안 기능 비활성화 (필요한 경우)\n",
    "    chrome_options.add_argument('--remote-debugging-port=9222')  # 원격 디버깅 포트 설정    # 크롬 브라우저 열기\n",
    "    driver = webdriver.Chrome(service=Service(ChromeDriverManager().install()), options=chrome_options)\n",
    "\n",
    "    driver.get(url)\n",
    "    time.sleep(3)\n",
    "\n",
    "    html = driver.page_source\n",
    "    soup = BeautifulSoup(html, 'html.parser')\n",
    "    table = soup.find('table', id='size_table', class_ = 'table_th_grey')\n",
    "    rows = table.find_all('tr')\n",
    "    data_dict = {}\n",
    "    indexs = [th.get_text(strip=True) for th in soup.find_all('th', class_='item_val') if th.get_text(strip=True) != '소매길이']\n",
    "\n",
    "    for row in rows:\n",
    "        th = row.find(\"th\")\n",
    "        if th is None:\n",
    "            continue\n",
    "\n",
    "        key = th.text.strip()\n",
    "\n",
    "        td_values = [td.text for td in row.find_all(\"td\", class_=\"goods_size_val\")]\n",
    "        if td_values:\n",
    "            for idx, size_key  in enumerate(indexs) :\n",
    "                try :\n",
    "                    update_info = {size_key : td_values[idx]}\n",
    "                    data_dict[key].update(update_info)\n",
    "                except : \n",
    "                    data_dict[key] = {size_key : td_values[idx]}\n",
    "    return data_dict\n",
    "\n",
    "# 사이즈 추천\n",
    "def main(height, weight, imageUrl, loosefit_condition) :\n",
    "    try :\n",
    "        # 사용자 사이즈 반환\n",
    "        user_size = return_size(height, weight)\n",
    "        # 크롤링 정보 반환\n",
    "        crawling_dict = crawling(imageUrl)\n",
    "        for idx, sizes in enumerate(crawling_dict) :\n",
    "            for key, value in crawling_dict[sizes].items() :\n",
    "                if user_size[key] > float(value) :\n",
    "                    break\n",
    "            else :\n",
    "                if loosefit_condition == '오버핏' and idx+1 < len(crawling_dict) : loosefit_condition = '';\n",
    "                else : return sizes\n",
    "        else :\n",
    "            return 'None-size'\n",
    "    except : return 'None-info'"
   ]
  },
  {
   "cell_type": "code",
   "execution_count": 2,
   "metadata": {},
   "outputs": [
    {
     "name": "stdout",
     "output_type": "stream",
     "text": [
      "L\n"
     ]
    }
   ],
   "source": [
    "my_height = 180\n",
    "my_weight = 80\n",
    "cloth_web_url = \"https://www.musinsa.com/app/goods/3382056?loc=goods_rank\"\n",
    "print(main(my_height, my_weight, cloth_web_url, '오버핏'))"
   ]
  },
  {
   "attachments": {},
   "cell_type": "markdown",
   "metadata": {},
   "source": [
    "영진님 피드백 대로 크롬 드라이버로 실행할 때 크롬 창 안 뜨도록 headless 설정 완료.\n",
    "\n",
    "크롬 웹 드라이버 설치 안 하고 크롤링 할 수 있도록 크롤링 방식 일부 변경"
   ]
  }
 ],
 "metadata": {
  "kernelspec": {
   "display_name": "bigproject",
   "language": "python",
   "name": "python3"
  },
  "language_info": {
   "codemirror_mode": {
    "name": "ipython",
    "version": 3
   },
   "file_extension": ".py",
   "mimetype": "text/x-python",
   "name": "python",
   "nbconvert_exporter": "python",
   "pygments_lexer": "ipython3",
   "version": "3.8.16"
  },
  "orig_nbformat": 4
 },
 "nbformat": 4,
 "nbformat_minor": 2
}
