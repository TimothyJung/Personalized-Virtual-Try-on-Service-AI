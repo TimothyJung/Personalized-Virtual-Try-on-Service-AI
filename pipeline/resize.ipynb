{
 "cells": [
  {
   "cell_type": "code",
   "execution_count": 1,
   "metadata": {},
   "outputs": [
    {
     "data": {
      "application/vnd.jupyter.widget-view+json": {
       "model_id": "71cb31f5a6574b1bb5ec312edc563366",
       "version_major": 2,
       "version_minor": 0
      },
      "text/plain": [
       "  0%|          | 0/3538 [00:00<?, ?it/s]"
      ]
     },
     "metadata": {},
     "output_type": "display_data"
    }
   ],
   "source": [
    "import os\n",
    "import cv2\n",
    "import glob\n",
    "import numpy as np\n",
    "import albumentations as A\n",
    "from PIL import Image\n",
    "from tqdm.auto import tqdm\n",
    "\n",
    "folder = \"cloth-mask\" # image  cloth/top  cloth/bottom\n",
    "input_folder = f\"../asd/전처리 이미지/{folder}\"\n",
    "output_folder = f\"../asd/전처리 이미지/{folder}_resized\"\n",
    "\n",
    "if not os.path.exists(output_folder):\n",
    "    os.makedirs(output_folder)\n",
    "\n",
    "# 입력 폴더 내의 모든 이미지 파일 경로를 가져옴\n",
    "image_paths = glob.glob(input_folder + \"/*.jpg\") + glob.glob(input_folder + \"/*.jpeg\") + glob.glob(input_folder + \"/*.png\")\n",
    "\n",
    "for image_path in tqdm(image_paths):\n",
    "    # 이미지 로드\n",
    "    image = Image.open(image_path)\n",
    "\n",
    "    # Albumentations를 사용하여 이미지 크기 변환\n",
    "    transform = A.Compose([\n",
    "        A.LongestMaxSize(max_size=1024, always_apply=True),\n",
    "        A.PadIfNeeded(min_height=768, min_width=768, border_mode=cv2.BORDER_REPLICATE)\n",
    "        ])\n",
    "    \n",
    "    transformed = transform(image=np.array(image))[\"image\"]\n",
    "\n",
    "    # 이미지 파일명 추출\n",
    "    file_name = image_path.split(\"/\")[-1]\n",
    "\n",
    "    # 저장할 경로 및 파일명 생성\n",
    "    save_path = output_folder + \"/\" + file_name\n",
    "\n",
    "    # 변환된 이미지 저장\n",
    "    Image.fromarray(transformed).save(save_path)\n"
   ]
  },
  {
   "cell_type": "code",
   "execution_count": 44,
   "metadata": {},
   "outputs": [],
   "source": [
    "import glob\n",
    "\n",
    "# 파일들의 리스트를 가져옴\n",
    "file_list = glob.glob(\"../asd/전처리 이미지/datasets/image/*.jpg\")\n",
    "\n",
    "# 파일들을 정렬하여 순서를 유지함\n",
    "file_list.sort()\n",
    "\n",
    "# 결과를 저장할 파일 이름\n",
    "output_file = '../asd/전처리 이미지/datasets/train_pairs.txt'\n",
    "\n",
    "# 결과를 저장할 변수\n",
    "result = \"\"\n",
    "\n",
    "# 파일들을 순회하면서 결과를 생성\n",
    "for i, file_name in enumerate(file_list):\n",
    "    next_file_name = file_list[(i + 1) % len(file_list)]\n",
    "    file_name = file_name.split(\"/\")[-1]\n",
    "    next_file_name = next_file_name.split(\"/\")[-1]\n",
    "    result += f\"{file_name} {next_file_name}\\n\"\n",
    "\n",
    "# 결과를 파일에 저장\n",
    "with open(output_file, \"w\") as f:\n",
    "    f.write(result)"
   ]
  },
  {
   "cell_type": "code",
   "execution_count": 45,
   "metadata": {},
   "outputs": [],
   "source": [
    "import glob\n",
    "import random\n",
    "\n",
    "# 랜덤 시드를 고정\n",
    "random.seed(42)\n",
    "\n",
    "# 파일들의 리스트를 가져옴\n",
    "file_list = glob.glob(\"../asd/전처리 이미지/datasets/image/*.jpg\")\n",
    "\n",
    "# 파일들을 무작위로 섞음\n",
    "random.shuffle(file_list)\n",
    "\n",
    "# 결과를 저장할 파일 이름\n",
    "output_file = '../asd/전처리 이미지/datasets/train_pairs.txt'\n",
    "\n",
    "# 결과를 저장할 변수\n",
    "result = \"\"\n",
    "\n",
    "# 파일들을 순회하면서 결과를 생성\n",
    "for i, file_name in enumerate(file_list):\n",
    "    next_file_name = file_list[(i + 1) % len(file_list)]\n",
    "    file_name = file_name.split(\"/\")[-1]\n",
    "    next_file_name = next_file_name.split(\"/\")[-1]\n",
    "    result += f\"{file_name} {next_file_name}\\n\"\n",
    "\n",
    "# 결과를 파일에 저장\n",
    "with open(output_file, \"w\") as f:\n",
    "    f.write(result)"
   ]
  },
  {
   "cell_type": "code",
   "execution_count": null,
   "metadata": {},
   "outputs": [],
   "source": [
    "\"../asd/전처리 이미지/datasets/image/*.jpg\"\n",
    "'../asd/전처리 이미지/datasets/train_pairs.txt', 'w'"
   ]
  },
  {
   "cell_type": "code",
   "execution_count": 15,
   "metadata": {},
   "outputs": [],
   "source": [
    "import cv2\n",
    "import numpy as np\n",
    "import albumentations as A\n",
    "from PIL import Image\n",
    "\n",
    "image = Image.open('../1008_A015_000.jpg')\n",
    "target_width = 768\n",
    "target_height = 1024\n",
    "original_width, original_height = image.size\n",
    "width_ratio = target_width / original_width\n",
    "height_ratio = target_height / original_height\n",
    "transform = A.Compose([\n",
    "        #A.LongestMaxSize(max_size=max(target_width, target_height), always_apply=True),\n",
    "        #A.PadIfNeeded(min_height=target_height, min_width=target_width, always_apply=True, border_mode=0),\n",
    "        A.Resize(height=int(original_height * height_ratio), width=int(original_width * width_ratio),\n",
    "                 always_apply=True)\n",
    "    ])\n",
    "transformed = transform(image=np.array(image))[\"image\"]\n",
    "transformed_image = Image.fromarray(transformed)\n",
    "transformed_image.save('./test2.png')"
   ]
  }
 ],
 "metadata": {
  "kernelspec": {
   "display_name": "torch",
   "language": "python",
   "name": "python3"
  },
  "language_info": {
   "codemirror_mode": {
    "name": "ipython",
    "version": 3
   },
   "file_extension": ".py",
   "mimetype": "text/x-python",
   "name": "python",
   "nbconvert_exporter": "python",
   "pygments_lexer": "ipython3",
   "version": "3.8.16"
  },
  "orig_nbformat": 4
 },
 "nbformat": 4,
 "nbformat_minor": 2
}
